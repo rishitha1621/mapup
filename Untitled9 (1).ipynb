{
  "nbformat": 4,
  "nbformat_minor": 0,
  "metadata": {
    "colab": {
      "provenance": []
    },
    "kernelspec": {
      "name": "python3",
      "display_name": "Python 3"
    },
    "language_info": {
      "name": "python"
    }
  },
  "cells": [
    {
      "cell_type": "code",
      "source": [
        "import pandas as pd\n",
        "\n",
        "df = pd.read_csv('dataset-1.csv')"
      ],
      "metadata": {
        "id": "E0j40EGzWgDA"
      },
      "execution_count": null,
      "outputs": []
    },
    {
      "cell_type": "code",
      "source": [
        "df"
      ],
      "metadata": {
        "colab": {
          "base_uri": "https://localhost:8080/",
          "height": 424
        },
        "id": "aP5MwXuDW0lg",
        "outputId": "0aedc108-6b3d-46ca-d494-27197ecdf209"
      },
      "execution_count": null,
      "outputs": [
        {
          "output_type": "execute_result",
          "data": {
            "text/plain": [
              "     id_1  id_2  route   moto    car     rv   bus  truck\n",
              "0     829   827      1   2.05   4.14   4.14  10.1   15.2\n",
              "1     829   821      4   6.63  13.26  13.26  32.4   48.5\n",
              "2     829   804      7  14.41  28.92  28.92  64.7   97.0\n",
              "3     829   822      6   5.90  11.81  11.81  28.8   43.2\n",
              "4     829   826      9   2.87   5.81   5.81  14.2   21.2\n",
              "..    ...   ...    ...    ...    ...    ...   ...    ...\n",
              "336   803   802      3   1.70   3.40   3.40   6.9   10.3\n",
              "337   803   805      4   3.00   6.00   6.00  12.0   17.9\n",
              "338   803   825      3  11.59  23.28  23.28  50.1   75.2\n",
              "339   803   806      9   3.80   7.70   7.70  15.3   23.0\n",
              "340   803   830      1  16.18  32.47  32.47  72.6  108.8\n",
              "\n",
              "[341 rows x 8 columns]"
            ],
            "text/html": [
              "\n",
              "  <div id=\"df-ccaa4387-8418-41d8-aafd-d7739e13396c\" class=\"colab-df-container\">\n",
              "    <div>\n",
              "<style scoped>\n",
              "    .dataframe tbody tr th:only-of-type {\n",
              "        vertical-align: middle;\n",
              "    }\n",
              "\n",
              "    .dataframe tbody tr th {\n",
              "        vertical-align: top;\n",
              "    }\n",
              "\n",
              "    .dataframe thead th {\n",
              "        text-align: right;\n",
              "    }\n",
              "</style>\n",
              "<table border=\"1\" class=\"dataframe\">\n",
              "  <thead>\n",
              "    <tr style=\"text-align: right;\">\n",
              "      <th></th>\n",
              "      <th>id_1</th>\n",
              "      <th>id_2</th>\n",
              "      <th>route</th>\n",
              "      <th>moto</th>\n",
              "      <th>car</th>\n",
              "      <th>rv</th>\n",
              "      <th>bus</th>\n",
              "      <th>truck</th>\n",
              "    </tr>\n",
              "  </thead>\n",
              "  <tbody>\n",
              "    <tr>\n",
              "      <th>0</th>\n",
              "      <td>829</td>\n",
              "      <td>827</td>\n",
              "      <td>1</td>\n",
              "      <td>2.05</td>\n",
              "      <td>4.14</td>\n",
              "      <td>4.14</td>\n",
              "      <td>10.1</td>\n",
              "      <td>15.2</td>\n",
              "    </tr>\n",
              "    <tr>\n",
              "      <th>1</th>\n",
              "      <td>829</td>\n",
              "      <td>821</td>\n",
              "      <td>4</td>\n",
              "      <td>6.63</td>\n",
              "      <td>13.26</td>\n",
              "      <td>13.26</td>\n",
              "      <td>32.4</td>\n",
              "      <td>48.5</td>\n",
              "    </tr>\n",
              "    <tr>\n",
              "      <th>2</th>\n",
              "      <td>829</td>\n",
              "      <td>804</td>\n",
              "      <td>7</td>\n",
              "      <td>14.41</td>\n",
              "      <td>28.92</td>\n",
              "      <td>28.92</td>\n",
              "      <td>64.7</td>\n",
              "      <td>97.0</td>\n",
              "    </tr>\n",
              "    <tr>\n",
              "      <th>3</th>\n",
              "      <td>829</td>\n",
              "      <td>822</td>\n",
              "      <td>6</td>\n",
              "      <td>5.90</td>\n",
              "      <td>11.81</td>\n",
              "      <td>11.81</td>\n",
              "      <td>28.8</td>\n",
              "      <td>43.2</td>\n",
              "    </tr>\n",
              "    <tr>\n",
              "      <th>4</th>\n",
              "      <td>829</td>\n",
              "      <td>826</td>\n",
              "      <td>9</td>\n",
              "      <td>2.87</td>\n",
              "      <td>5.81</td>\n",
              "      <td>5.81</td>\n",
              "      <td>14.2</td>\n",
              "      <td>21.2</td>\n",
              "    </tr>\n",
              "    <tr>\n",
              "      <th>...</th>\n",
              "      <td>...</td>\n",
              "      <td>...</td>\n",
              "      <td>...</td>\n",
              "      <td>...</td>\n",
              "      <td>...</td>\n",
              "      <td>...</td>\n",
              "      <td>...</td>\n",
              "      <td>...</td>\n",
              "    </tr>\n",
              "    <tr>\n",
              "      <th>336</th>\n",
              "      <td>803</td>\n",
              "      <td>802</td>\n",
              "      <td>3</td>\n",
              "      <td>1.70</td>\n",
              "      <td>3.40</td>\n",
              "      <td>3.40</td>\n",
              "      <td>6.9</td>\n",
              "      <td>10.3</td>\n",
              "    </tr>\n",
              "    <tr>\n",
              "      <th>337</th>\n",
              "      <td>803</td>\n",
              "      <td>805</td>\n",
              "      <td>4</td>\n",
              "      <td>3.00</td>\n",
              "      <td>6.00</td>\n",
              "      <td>6.00</td>\n",
              "      <td>12.0</td>\n",
              "      <td>17.9</td>\n",
              "    </tr>\n",
              "    <tr>\n",
              "      <th>338</th>\n",
              "      <td>803</td>\n",
              "      <td>825</td>\n",
              "      <td>3</td>\n",
              "      <td>11.59</td>\n",
              "      <td>23.28</td>\n",
              "      <td>23.28</td>\n",
              "      <td>50.1</td>\n",
              "      <td>75.2</td>\n",
              "    </tr>\n",
              "    <tr>\n",
              "      <th>339</th>\n",
              "      <td>803</td>\n",
              "      <td>806</td>\n",
              "      <td>9</td>\n",
              "      <td>3.80</td>\n",
              "      <td>7.70</td>\n",
              "      <td>7.70</td>\n",
              "      <td>15.3</td>\n",
              "      <td>23.0</td>\n",
              "    </tr>\n",
              "    <tr>\n",
              "      <th>340</th>\n",
              "      <td>803</td>\n",
              "      <td>830</td>\n",
              "      <td>1</td>\n",
              "      <td>16.18</td>\n",
              "      <td>32.47</td>\n",
              "      <td>32.47</td>\n",
              "      <td>72.6</td>\n",
              "      <td>108.8</td>\n",
              "    </tr>\n",
              "  </tbody>\n",
              "</table>\n",
              "<p>341 rows × 8 columns</p>\n",
              "</div>\n",
              "    <div class=\"colab-df-buttons\">\n",
              "\n",
              "  <div class=\"colab-df-container\">\n",
              "    <button class=\"colab-df-convert\" onclick=\"convertToInteractive('df-ccaa4387-8418-41d8-aafd-d7739e13396c')\"\n",
              "            title=\"Convert this dataframe to an interactive table.\"\n",
              "            style=\"display:none;\">\n",
              "\n",
              "  <svg xmlns=\"http://www.w3.org/2000/svg\" height=\"24px\" viewBox=\"0 -960 960 960\">\n",
              "    <path d=\"M120-120v-720h720v720H120Zm60-500h600v-160H180v160Zm220 220h160v-160H400v160Zm0 220h160v-160H400v160ZM180-400h160v-160H180v160Zm440 0h160v-160H620v160ZM180-180h160v-160H180v160Zm440 0h160v-160H620v160Z\"/>\n",
              "  </svg>\n",
              "    </button>\n",
              "\n",
              "  <style>\n",
              "    .colab-df-container {\n",
              "      display:flex;\n",
              "      gap: 12px;\n",
              "    }\n",
              "\n",
              "    .colab-df-convert {\n",
              "      background-color: #E8F0FE;\n",
              "      border: none;\n",
              "      border-radius: 50%;\n",
              "      cursor: pointer;\n",
              "      display: none;\n",
              "      fill: #1967D2;\n",
              "      height: 32px;\n",
              "      padding: 0 0 0 0;\n",
              "      width: 32px;\n",
              "    }\n",
              "\n",
              "    .colab-df-convert:hover {\n",
              "      background-color: #E2EBFA;\n",
              "      box-shadow: 0px 1px 2px rgba(60, 64, 67, 0.3), 0px 1px 3px 1px rgba(60, 64, 67, 0.15);\n",
              "      fill: #174EA6;\n",
              "    }\n",
              "\n",
              "    .colab-df-buttons div {\n",
              "      margin-bottom: 4px;\n",
              "    }\n",
              "\n",
              "    [theme=dark] .colab-df-convert {\n",
              "      background-color: #3B4455;\n",
              "      fill: #D2E3FC;\n",
              "    }\n",
              "\n",
              "    [theme=dark] .colab-df-convert:hover {\n",
              "      background-color: #434B5C;\n",
              "      box-shadow: 0px 1px 3px 1px rgba(0, 0, 0, 0.15);\n",
              "      filter: drop-shadow(0px 1px 2px rgba(0, 0, 0, 0.3));\n",
              "      fill: #FFFFFF;\n",
              "    }\n",
              "  </style>\n",
              "\n",
              "    <script>\n",
              "      const buttonEl =\n",
              "        document.querySelector('#df-ccaa4387-8418-41d8-aafd-d7739e13396c button.colab-df-convert');\n",
              "      buttonEl.style.display =\n",
              "        google.colab.kernel.accessAllowed ? 'block' : 'none';\n",
              "\n",
              "      async function convertToInteractive(key) {\n",
              "        const element = document.querySelector('#df-ccaa4387-8418-41d8-aafd-d7739e13396c');\n",
              "        const dataTable =\n",
              "          await google.colab.kernel.invokeFunction('convertToInteractive',\n",
              "                                                    [key], {});\n",
              "        if (!dataTable) return;\n",
              "\n",
              "        const docLinkHtml = 'Like what you see? Visit the ' +\n",
              "          '<a target=\"_blank\" href=https://colab.research.google.com/notebooks/data_table.ipynb>data table notebook</a>'\n",
              "          + ' to learn more about interactive tables.';\n",
              "        element.innerHTML = '';\n",
              "        dataTable['output_type'] = 'display_data';\n",
              "        await google.colab.output.renderOutput(dataTable, element);\n",
              "        const docLink = document.createElement('div');\n",
              "        docLink.innerHTML = docLinkHtml;\n",
              "        element.appendChild(docLink);\n",
              "      }\n",
              "    </script>\n",
              "  </div>\n",
              "\n",
              "\n",
              "<div id=\"df-5a894d26-304c-40cb-ae5e-a9dcc240d50c\">\n",
              "  <button class=\"colab-df-quickchart\" onclick=\"quickchart('df-5a894d26-304c-40cb-ae5e-a9dcc240d50c')\"\n",
              "            title=\"Suggest charts\"\n",
              "            style=\"display:none;\">\n",
              "\n",
              "<svg xmlns=\"http://www.w3.org/2000/svg\" height=\"24px\"viewBox=\"0 0 24 24\"\n",
              "     width=\"24px\">\n",
              "    <g>\n",
              "        <path d=\"M19 3H5c-1.1 0-2 .9-2 2v14c0 1.1.9 2 2 2h14c1.1 0 2-.9 2-2V5c0-1.1-.9-2-2-2zM9 17H7v-7h2v7zm4 0h-2V7h2v10zm4 0h-2v-4h2v4z\"/>\n",
              "    </g>\n",
              "</svg>\n",
              "  </button>\n",
              "\n",
              "<style>\n",
              "  .colab-df-quickchart {\n",
              "      --bg-color: #E8F0FE;\n",
              "      --fill-color: #1967D2;\n",
              "      --hover-bg-color: #E2EBFA;\n",
              "      --hover-fill-color: #174EA6;\n",
              "      --disabled-fill-color: #AAA;\n",
              "      --disabled-bg-color: #DDD;\n",
              "  }\n",
              "\n",
              "  [theme=dark] .colab-df-quickchart {\n",
              "      --bg-color: #3B4455;\n",
              "      --fill-color: #D2E3FC;\n",
              "      --hover-bg-color: #434B5C;\n",
              "      --hover-fill-color: #FFFFFF;\n",
              "      --disabled-bg-color: #3B4455;\n",
              "      --disabled-fill-color: #666;\n",
              "  }\n",
              "\n",
              "  .colab-df-quickchart {\n",
              "    background-color: var(--bg-color);\n",
              "    border: none;\n",
              "    border-radius: 50%;\n",
              "    cursor: pointer;\n",
              "    display: none;\n",
              "    fill: var(--fill-color);\n",
              "    height: 32px;\n",
              "    padding: 0;\n",
              "    width: 32px;\n",
              "  }\n",
              "\n",
              "  .colab-df-quickchart:hover {\n",
              "    background-color: var(--hover-bg-color);\n",
              "    box-shadow: 0 1px 2px rgba(60, 64, 67, 0.3), 0 1px 3px 1px rgba(60, 64, 67, 0.15);\n",
              "    fill: var(--button-hover-fill-color);\n",
              "  }\n",
              "\n",
              "  .colab-df-quickchart-complete:disabled,\n",
              "  .colab-df-quickchart-complete:disabled:hover {\n",
              "    background-color: var(--disabled-bg-color);\n",
              "    fill: var(--disabled-fill-color);\n",
              "    box-shadow: none;\n",
              "  }\n",
              "\n",
              "  .colab-df-spinner {\n",
              "    border: 2px solid var(--fill-color);\n",
              "    border-color: transparent;\n",
              "    border-bottom-color: var(--fill-color);\n",
              "    animation:\n",
              "      spin 1s steps(1) infinite;\n",
              "  }\n",
              "\n",
              "  @keyframes spin {\n",
              "    0% {\n",
              "      border-color: transparent;\n",
              "      border-bottom-color: var(--fill-color);\n",
              "      border-left-color: var(--fill-color);\n",
              "    }\n",
              "    20% {\n",
              "      border-color: transparent;\n",
              "      border-left-color: var(--fill-color);\n",
              "      border-top-color: var(--fill-color);\n",
              "    }\n",
              "    30% {\n",
              "      border-color: transparent;\n",
              "      border-left-color: var(--fill-color);\n",
              "      border-top-color: var(--fill-color);\n",
              "      border-right-color: var(--fill-color);\n",
              "    }\n",
              "    40% {\n",
              "      border-color: transparent;\n",
              "      border-right-color: var(--fill-color);\n",
              "      border-top-color: var(--fill-color);\n",
              "    }\n",
              "    60% {\n",
              "      border-color: transparent;\n",
              "      border-right-color: var(--fill-color);\n",
              "    }\n",
              "    80% {\n",
              "      border-color: transparent;\n",
              "      border-right-color: var(--fill-color);\n",
              "      border-bottom-color: var(--fill-color);\n",
              "    }\n",
              "    90% {\n",
              "      border-color: transparent;\n",
              "      border-bottom-color: var(--fill-color);\n",
              "    }\n",
              "  }\n",
              "</style>\n",
              "\n",
              "  <script>\n",
              "    async function quickchart(key) {\n",
              "      const quickchartButtonEl =\n",
              "        document.querySelector('#' + key + ' button');\n",
              "      quickchartButtonEl.disabled = true;  // To prevent multiple clicks.\n",
              "      quickchartButtonEl.classList.add('colab-df-spinner');\n",
              "      try {\n",
              "        const charts = await google.colab.kernel.invokeFunction(\n",
              "            'suggestCharts', [key], {});\n",
              "      } catch (error) {\n",
              "        console.error('Error during call to suggestCharts:', error);\n",
              "      }\n",
              "      quickchartButtonEl.classList.remove('colab-df-spinner');\n",
              "      quickchartButtonEl.classList.add('colab-df-quickchart-complete');\n",
              "    }\n",
              "    (() => {\n",
              "      let quickchartButtonEl =\n",
              "        document.querySelector('#df-5a894d26-304c-40cb-ae5e-a9dcc240d50c button');\n",
              "      quickchartButtonEl.style.display =\n",
              "        google.colab.kernel.accessAllowed ? 'block' : 'none';\n",
              "    })();\n",
              "  </script>\n",
              "</div>\n",
              "\n",
              "  <div id=\"id_82d9ed0e-6f98-460f-b494-88193ce0a72f\">\n",
              "    <style>\n",
              "      .colab-df-generate {\n",
              "        background-color: #E8F0FE;\n",
              "        border: none;\n",
              "        border-radius: 50%;\n",
              "        cursor: pointer;\n",
              "        display: none;\n",
              "        fill: #1967D2;\n",
              "        height: 32px;\n",
              "        padding: 0 0 0 0;\n",
              "        width: 32px;\n",
              "      }\n",
              "\n",
              "      .colab-df-generate:hover {\n",
              "        background-color: #E2EBFA;\n",
              "        box-shadow: 0px 1px 2px rgba(60, 64, 67, 0.3), 0px 1px 3px 1px rgba(60, 64, 67, 0.15);\n",
              "        fill: #174EA6;\n",
              "      }\n",
              "\n",
              "      [theme=dark] .colab-df-generate {\n",
              "        background-color: #3B4455;\n",
              "        fill: #D2E3FC;\n",
              "      }\n",
              "\n",
              "      [theme=dark] .colab-df-generate:hover {\n",
              "        background-color: #434B5C;\n",
              "        box-shadow: 0px 1px 3px 1px rgba(0, 0, 0, 0.15);\n",
              "        filter: drop-shadow(0px 1px 2px rgba(0, 0, 0, 0.3));\n",
              "        fill: #FFFFFF;\n",
              "      }\n",
              "    </style>\n",
              "    <button class=\"colab-df-generate\" onclick=\"generateWithVariable('df')\"\n",
              "            title=\"Generate code using this dataframe.\"\n",
              "            style=\"display:none;\">\n",
              "\n",
              "  <svg xmlns=\"http://www.w3.org/2000/svg\" height=\"24px\"viewBox=\"0 0 24 24\"\n",
              "       width=\"24px\">\n",
              "    <path d=\"M7,19H8.4L18.45,9,17,7.55,7,17.6ZM5,21V16.75L18.45,3.32a2,2,0,0,1,2.83,0l1.4,1.43a1.91,1.91,0,0,1,.58,1.4,1.91,1.91,0,0,1-.58,1.4L9.25,21ZM18.45,9,17,7.55Zm-12,3A5.31,5.31,0,0,0,4.9,8.1,5.31,5.31,0,0,0,1,6.5,5.31,5.31,0,0,0,4.9,4.9,5.31,5.31,0,0,0,6.5,1,5.31,5.31,0,0,0,8.1,4.9,5.31,5.31,0,0,0,12,6.5,5.46,5.46,0,0,0,6.5,12Z\"/>\n",
              "  </svg>\n",
              "    </button>\n",
              "    <script>\n",
              "      (() => {\n",
              "      const buttonEl =\n",
              "        document.querySelector('#id_82d9ed0e-6f98-460f-b494-88193ce0a72f button.colab-df-generate');\n",
              "      buttonEl.style.display =\n",
              "        google.colab.kernel.accessAllowed ? 'block' : 'none';\n",
              "\n",
              "      buttonEl.onclick = () => {\n",
              "        google.colab.notebook.generateWithVariable('df');\n",
              "      }\n",
              "      })();\n",
              "    </script>\n",
              "  </div>\n",
              "\n",
              "    </div>\n",
              "  </div>\n"
            ]
          },
          "metadata": {},
          "execution_count": 4
        }
      ]
    },
    {
      "cell_type": "code",
      "source": [
        "import pandas as pd\n",
        "\n",
        "def generate_car_matrix(df):\n",
        "    car_matrix = df.pivot(index='id_1', columns='id_2', values='car').fillna(0)\n",
        "\n",
        "    for i in range(min(car_matrix.shape)):\n",
        "        car_matrix.iloc[i, i] = 0\n",
        "\n",
        "    return car_matrix\n",
        "\n",
        "result = generate_car_matrix(df)\n",
        "print(result)\n"
      ],
      "metadata": {
        "colab": {
          "base_uri": "https://localhost:8080/"
        },
        "id": "NrikPAlpW3LK",
        "outputId": "35c64e35-0971-4653-cbdd-964ffb59cd79"
      },
      "execution_count": null,
      "outputs": [
        {
          "output_type": "stream",
          "name": "stdout",
          "text": [
            "id_2    801    802    803    804    805    806    807    808    809    821  \\\n",
            "id_1                                                                         \n",
            "801    0.00   2.80   6.00   7.70  11.70  13.40  16.90  19.60  21.00  23.52   \n",
            "802    2.80   0.00   3.40   5.20   9.20  10.90  14.30  17.10  18.50  20.92   \n",
            "803    6.00   3.40   0.00   2.00   6.00   7.70  11.10  13.90  15.30  17.72   \n",
            "804    7.70   5.20   2.00   0.00   4.40   6.10   9.50  12.30  13.70  16.12   \n",
            "805   11.70   9.20   6.00   4.40   0.00   2.00   5.40   8.20   9.60  12.02   \n",
            "806   13.40  10.90   7.70   6.10   2.00   0.00   3.80   6.60   8.00  10.42   \n",
            "807   16.90  14.30  11.10   9.50   5.40   3.80   0.00   2.90   4.30   6.82   \n",
            "808   19.60  17.10  13.90  12.30   8.20   6.60   2.90   0.00   1.70   4.12   \n",
            "809   21.00  18.50  15.30  13.70   9.60   8.00   4.30   1.70   0.00   2.92   \n",
            "821   23.52  20.92  17.72  16.12  12.02  10.42   6.82   4.12   2.92   0.00   \n",
            "822   24.67  22.07  18.87  17.27  13.17  11.57   7.97   5.27   4.07   1.80   \n",
            "823   26.53  23.93  20.73  19.13  15.03  13.43   9.83   7.13   5.93   3.67   \n",
            "824   27.92  25.32  22.12  20.52  16.42   7.80  11.22   8.52   7.32   5.06   \n",
            "825   29.08  26.48  23.28  21.68  17.58  15.98  12.38   9.68   8.48   6.22   \n",
            "826   30.87  28.27  25.07  23.47  19.37  17.77  14.17  11.47  10.27   8.01   \n",
            "827   32.53  29.93  26.73  25.13  21.03  19.43  15.83  13.13  11.93   9.43   \n",
            "829   36.32  33.72  30.52  28.92  24.82  23.22  19.62  16.92  15.72  13.26   \n",
            "830   38.27  35.67  32.47  30.87  26.77  25.17  21.57  18.87  17.67  15.17   \n",
            "831   39.24  36.64  33.44  31.84  27.74  26.14  22.54  19.84  18.64  16.15   \n",
            "\n",
            "id_2    822    823    824    825    826    827    829    830    831  \n",
            "id_1                                                                 \n",
            "801   24.67  26.53  27.92  29.08  30.87  32.53  36.32  38.27  39.24  \n",
            "802   22.07  23.93  25.32  26.48  28.27  29.93  33.72  35.67  36.64  \n",
            "803   18.87  20.73  22.12  23.28  25.07  26.73  30.52  32.47  33.44  \n",
            "804   17.27  19.13  20.52  21.68  23.47  25.13  28.92  30.87  31.84  \n",
            "805   13.17  15.03  16.42  17.58  19.37  21.03  24.82  26.77  27.74  \n",
            "806   11.57  13.43  14.82  15.98  17.77  19.43  23.22  25.17  26.14  \n",
            "807    7.97   9.83  11.22  12.38  14.17  15.83  19.62  21.57  22.54  \n",
            "808    5.27   7.13   8.52   9.68  11.47  13.13  16.92  18.87  19.84  \n",
            "809    4.07   5.93   7.32   8.48  10.27  11.93  15.72  17.67  18.64  \n",
            "821    1.80   3.67   5.06   6.22   8.01   9.43  13.26  15.17  16.15  \n",
            "822    0.00   2.21   3.60   4.76   6.55   8.00  11.81  13.74  14.68  \n",
            "823    2.21   0.00   1.79   2.94   4.74   6.15  10.00  11.89  12.87  \n",
            "824    3.60   1.79   0.00   1.71   3.50   4.92   8.77  10.66  11.64  \n",
            "825    4.76   2.94   1.71   0.00   2.20   3.65   7.46   9.35  10.33  \n",
            "826    6.55   4.74   3.50   2.20   0.00   2.05   5.81   7.71   8.69  \n",
            "827    8.00   6.15   4.92   3.65   2.05   0.00   4.14   6.06   7.04  \n",
            "829   11.81  10.00  21.40   7.46   5.81   4.14   0.00   2.38   3.36  \n",
            "830   13.74  11.89  10.66   0.00   7.71   6.06   2.38   0.00   1.39  \n",
            "831   14.68  12.87  11.64  10.33   8.69   7.04   3.36   1.39   0.00  \n"
          ]
        }
      ]
    },
    {
      "cell_type": "code",
      "source": [
        "import pandas as pd\n",
        "\n",
        "def generate_car_matrix(df):\n",
        "    limited_df = df[(df['id_1'] <= 806) & (df['id_2'] <= 806)]\n",
        "    car_matrix = limited_df.pivot(index='id_1', columns='id_2', values='car').fillna(0)\n",
        "    for i in range(min(car_matrix.shape)):\n",
        "        car_matrix.iloc[i, i] = 0\n",
        "\n",
        "    return car_matrix\n",
        "\n",
        "result = generate_car_matrix(df)\n",
        "print(result)\n"
      ],
      "metadata": {
        "colab": {
          "base_uri": "https://localhost:8080/"
        },
        "id": "P4GF66RdXvEk",
        "outputId": "2d983f0a-dc6a-483b-b212-4c69944724c7"
      },
      "execution_count": null,
      "outputs": [
        {
          "output_type": "stream",
          "name": "stdout",
          "text": [
            "id_2   801   802  803  804   805   806\n",
            "id_1                                  \n",
            "801    0.0   2.8  6.0  7.7  11.7  13.4\n",
            "802    2.8   0.0  3.4  5.2   9.2  10.9\n",
            "803    6.0   3.4  0.0  2.0   6.0   7.7\n",
            "804    7.7   5.2  2.0  0.0   4.4   6.1\n",
            "805   11.7   9.2  6.0  4.4   0.0   2.0\n",
            "806   13.4  10.9  7.7  6.1   2.0   0.0\n"
          ]
        }
      ]
    },
    {
      "cell_type": "code",
      "source": [
        "import pandas as pd\n",
        "\n",
        "def get_type_count(df):\n",
        "    def categorize_car(value):\n",
        "        if value <= 15:\n",
        "            return 'low'\n",
        "        elif 15 < value <= 25:\n",
        "            return 'medium'\n",
        "        else:\n",
        "            return 'high'\n",
        "    df['car_type'] = df['car'].apply(categorize_car)\n",
        "\n",
        "    type_counts = df['car_type'].value_counts().to_dict()\n",
        "\n",
        "    sorted_type_counts = dict(sorted(type_counts.items()))\n",
        "\n",
        "    return sorted_type_counts\n",
        "\n",
        "result = get_type_count(df)\n",
        "print(result)\n"
      ],
      "metadata": {
        "colab": {
          "base_uri": "https://localhost:8080/"
        },
        "id": "x5qx6Es7YNLE",
        "outputId": "0cf3c4aa-c56e-4041-b024-d8ac8df393df"
      },
      "execution_count": null,
      "outputs": [
        {
          "output_type": "stream",
          "name": "stdout",
          "text": [
            "{'high': 56, 'low': 196, 'medium': 89}\n"
          ]
        }
      ]
    },
    {
      "cell_type": "code",
      "source": [
        "df.info()"
      ],
      "metadata": {
        "colab": {
          "base_uri": "https://localhost:8080/"
        },
        "id": "1kcdV5VfaLgu",
        "outputId": "d2ddee23-6f25-461b-b97c-4bd4a095be6b"
      },
      "execution_count": null,
      "outputs": [
        {
          "output_type": "stream",
          "name": "stdout",
          "text": [
            "<class 'pandas.core.frame.DataFrame'>\n",
            "RangeIndex: 341 entries, 0 to 340\n",
            "Data columns (total 9 columns):\n",
            " #   Column    Non-Null Count  Dtype  \n",
            "---  ------    --------------  -----  \n",
            " 0   id_1      341 non-null    int64  \n",
            " 1   id_2      341 non-null    int64  \n",
            " 2   route     341 non-null    int64  \n",
            " 3   moto      341 non-null    float64\n",
            " 4   car       341 non-null    float64\n",
            " 5   rv        341 non-null    float64\n",
            " 6   bus       341 non-null    float64\n",
            " 7   truck     341 non-null    float64\n",
            " 8   car_type  341 non-null    object \n",
            "dtypes: float64(5), int64(3), object(1)\n",
            "memory usage: 24.1+ KB\n"
          ]
        }
      ]
    },
    {
      "cell_type": "code",
      "source": [
        "df.mean()"
      ],
      "metadata": {
        "colab": {
          "base_uri": "https://localhost:8080/"
        },
        "id": "KIIJ7fZVbMc5",
        "outputId": "84ad27d1-bcf2-4470-e525-4a39d953104c"
      },
      "execution_count": null,
      "outputs": [
        {
          "output_type": "execute_result",
          "data": {
            "text/plain": [
              "id_1     815.906158\n",
              "id_2     815.920821\n",
              "route      5.334311\n",
              "moto       7.214106\n",
              "car       14.411730\n",
              "rv        14.412229\n",
              "bus       31.932845\n",
              "truck     47.841789\n",
              "dtype: float64"
            ]
          },
          "metadata": {},
          "execution_count": 51
        }
      ]
    },
    {
      "cell_type": "code",
      "source": [
        "import pandas as pd\n",
        "\n",
        "def get_bus_indexes(df):\n",
        "    mean_bus = df['bus'].mean()\n",
        "\n",
        "    bus_indexes = df[df['bus'] > 2 * mean_bus].index.tolist()\n",
        "    bus_indexes.sort()\n",
        "    return bus_indexes\n",
        "\n",
        "result = get_bus_indexes(df)\n",
        "print(result)\n"
      ],
      "metadata": {
        "colab": {
          "base_uri": "https://localhost:8080/"
        },
        "id": "_pMaW10mcaf5",
        "outputId": "c663bdd4-9278-49aa-fce7-083af9447473"
      },
      "execution_count": null,
      "outputs": [
        {
          "output_type": "stream",
          "name": "stdout",
          "text": [
            "[2, 7, 12, 17, 25, 30, 54, 64, 70, 97, 144, 145, 149, 154, 160, 201, 206, 210, 215, 234, 235, 245, 250, 309, 314, 319, 322, 323, 334, 340]\n"
          ]
        }
      ]
    },
    {
      "cell_type": "code",
      "source": [
        "def filter_routes():\n",
        "    route_avg_truck = df.groupby('route')['truck'].mean()\n",
        "    filtered_routes = route_avg_truck[route_avg_truck > 7].index.tolist()\n",
        "    filtered_routes.sort()\n",
        "\n",
        "    return filtered_routes\n",
        "\n",
        "result = filter_routes()\n",
        "print(result)\n"
      ],
      "metadata": {
        "colab": {
          "base_uri": "https://localhost:8080/"
        },
        "id": "5xEWMUGAddYP",
        "outputId": "437bc98f-7c83-4bc8-906e-6d60d630dee2"
      },
      "execution_count": null,
      "outputs": [
        {
          "output_type": "stream",
          "name": "stdout",
          "text": [
            "[1, 2, 3, 4, 5, 6, 7, 8, 9, 10]\n"
          ]
        }
      ]
    },
    {
      "cell_type": "code",
      "source": [
        "df = pd.read_csv('dataset-1.csv')\n",
        "def multiply_matrix(df):\n",
        "    copy_df = df.copy()\n",
        "\n",
        "    for index, row in copy_df.iterrows():\n",
        "        for column in copy_df.columns:\n",
        "            value = copy_df.at[index, column]\n",
        "            if value > 20:\n",
        "                copy_df.at[index, column] = round(value * 0.75, 1)\n",
        "            else:\n",
        "                copy_df.at[index, column] = round(value * 1.25, 1)\n",
        "\n",
        "    return copy_df\n",
        "modified_result = multiply_matrix(result)\n",
        "print(modified_result)"
      ],
      "metadata": {
        "colab": {
          "base_uri": "https://localhost:8080/"
        },
        "id": "QoIEHor4guhT",
        "outputId": "212203dc-958e-4702-af8d-9087074e3591"
      },
      "execution_count": null,
      "outputs": [
        {
          "output_type": "stream",
          "name": "stdout",
          "text": [
            "id_2   801   802  803  804   805   806\n",
            "id_1                                  \n",
            "801    0.0   3.5  7.5  9.6  14.6  16.8\n",
            "802    3.5   0.0  4.2  6.5  11.5  13.6\n",
            "803    7.5   4.2  0.0  2.5   7.5   9.6\n",
            "804    9.6   6.5  2.5  0.0   5.5   7.6\n",
            "805   14.6  11.5  7.5  5.5   0.0   2.5\n",
            "806   16.8  13.6  9.6  7.6   2.5   0.0\n"
          ]
        }
      ]
    },
    {
      "cell_type": "code",
      "source": [
        "dff = pd.read_csv('dataset-3.csv')"
      ],
      "metadata": {
        "id": "FNQ3-WVNouUF"
      },
      "execution_count": 9,
      "outputs": []
    },
    {
      "cell_type": "code",
      "source": [
        "dff"
      ],
      "metadata": {
        "id": "jI1lwCSYo3VG"
      },
      "execution_count": null,
      "outputs": []
    },
    {
      "cell_type": "code",
      "source": [
        "import pandas as pd\n",
        "import numpy as np\n",
        "\n",
        "def calculate_distance_matrix():\n",
        "    df = pd.read_csv('dataset-3.csv')\n",
        "\n",
        "    limited_df = df[(df['id_start'] <= 1001412) & (df['id_end'] <= 1001412)]\n",
        "\n",
        "    distance_matrix = limited_df.pivot(index='id_start', columns='id_end', values='distance').fillna(0)\n",
        "\n",
        "    distance_matrix = distance_matrix.add(distance_matrix.T, fill_value=0)\n",
        "\n",
        "    np.fill_diagonal(distance_matrix.values, 0)\n",
        "\n",
        "    return distance_matrix\n",
        "\n",
        "result_distance_matrix = calculate_distance_matrix()\n",
        "print(result_distance_matrix)\n"
      ],
      "metadata": {
        "colab": {
          "base_uri": "https://localhost:8080/"
        },
        "id": "uyyILjVutTvU",
        "outputId": "182625ce-97b5-4434-e8be-148fe8228d76"
      },
      "execution_count": 5,
      "outputs": [
        {
          "output_type": "stream",
          "name": "stdout",
          "text": [
            "         1001400  1001402  1001404  1001406  1001408  1001410  1001412\n",
            "1001400      0.0      9.7      0.0      0.0      0.0      0.0      0.0\n",
            "1001402      9.7      0.0     20.2      0.0      0.0      0.0      0.0\n",
            "1001404      0.0     20.2      0.0     16.0      0.0      0.0      0.0\n",
            "1001406      0.0      0.0     16.0      0.0     21.7      0.0      0.0\n",
            "1001408      0.0      0.0      0.0     21.7      0.0     11.1      0.0\n",
            "1001410      0.0      0.0      0.0      0.0     11.1      0.0     15.6\n",
            "1001412      0.0      0.0      0.0      0.0      0.0     15.6      0.0\n"
          ]
        }
      ]
    },
    {
      "cell_type": "code",
      "source": [
        "import pandas as pd\n",
        "\n",
        "def unroll_distance_matrix(distance_df):\n",
        "    unrolled_distances = []\n",
        "\n",
        "    for i in range(len(distance_df)):\n",
        "        for j in range(len(distance_df.columns)):\n",
        "            if i != j:\n",
        "                unrolled_distances.append({\n",
        "                    'id_start': distance_df.index[i],\n",
        "                    'id_end': distance_df.columns[j],\n",
        "                    'distance': distance_df.iloc[i, j]\n",
        "                })\n",
        "\n",
        "    unrolled_df = pd.DataFrame(unrolled_distances)\n",
        "    return unrolled_df\n",
        "\n",
        "result_unrolled_distance = unroll_distance_matrix(result_distance_matrix)\n",
        "print(result_unrolled_distance)\n"
      ],
      "metadata": {
        "id": "AfCubpBPzKE9"
      },
      "execution_count": null,
      "outputs": []
    },
    {
      "cell_type": "code",
      "source": [
        "def calculate_toll_rate(distance_df):\n",
        "    distance_df['moto'] = distance_df['distance'] * 0.8\n",
        "    distance_df['car'] = distance_df['distance'] * 1.2\n",
        "    distance_df['rv'] = distance_df['distance'] * 1.5\n",
        "    distance_df['bus'] = distance_df['distance'] * 2.2\n",
        "    distance_df['truck'] = distance_df['distance'] * 3.6\n",
        "\n",
        "    return distance_df\n",
        "result_with_toll_rates = calculate_toll_rate(result_unrolled_distance)\n",
        "print(result_with_toll_rates[:10])"
      ],
      "metadata": {
        "colab": {
          "base_uri": "https://localhost:8080/"
        },
        "id": "07mEprIKB4WR",
        "outputId": "533bdb7b-7867-40ec-9c7e-022d67b17f31"
      },
      "execution_count": 17,
      "outputs": [
        {
          "output_type": "stream",
          "name": "stdout",
          "text": [
            "   id_start   id_end  distance   moto    car     rv    bus  truck\n",
            "0   1001400  1001402       9.7   7.76  11.64  14.55  21.34  34.92\n",
            "1   1001400  1001404       0.0   0.00   0.00   0.00   0.00   0.00\n",
            "2   1001400  1001406       0.0   0.00   0.00   0.00   0.00   0.00\n",
            "3   1001400  1001408       0.0   0.00   0.00   0.00   0.00   0.00\n",
            "4   1001400  1001410       0.0   0.00   0.00   0.00   0.00   0.00\n",
            "5   1001400  1001412       0.0   0.00   0.00   0.00   0.00   0.00\n",
            "6   1001402  1001400       9.7   7.76  11.64  14.55  21.34  34.92\n",
            "7   1001402  1001404      20.2  16.16  24.24  30.30  44.44  72.72\n",
            "8   1001402  1001406       0.0   0.00   0.00   0.00   0.00   0.00\n",
            "9   1001402  1001408       0.0   0.00   0.00   0.00   0.00   0.00\n"
          ]
        }
      ]
    }
  ]
}